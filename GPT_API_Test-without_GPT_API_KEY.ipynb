{
 "cells": [
  {
   "cell_type": "code",
   "execution_count": 2,
   "id": "2b408c5d",
   "metadata": {},
   "outputs": [
    {
     "name": "stdout",
     "output_type": "stream",
     "text": [
      "Requirement already satisfied: langchain in c:\\users\\maxal\\anaconda3\\lib\\site-packages (0.0.141)\n",
      "Requirement already satisfied: SQLAlchemy<2,>=1 in c:\\users\\maxal\\anaconda3\\lib\\site-packages (from langchain) (1.4.7)\n",
      "Requirement already satisfied: pydantic<2,>=1 in c:\\users\\maxal\\anaconda3\\lib\\site-packages (from langchain) (1.8.2)\n",
      "Requirement already satisfied: openapi-schema-pydantic<2.0,>=1.2 in c:\\users\\maxal\\anaconda3\\lib\\site-packages (from langchain) (1.2.4)\n",
      "Requirement already satisfied: requests<3,>=2 in c:\\users\\maxal\\anaconda3\\lib\\site-packages (from langchain) (2.28.2)\n",
      "Requirement already satisfied: numpy<2,>=1 in c:\\users\\maxal\\anaconda3\\lib\\site-packages (from langchain) (1.22.0)\n",
      "Requirement already satisfied: tenacity<9.0.0,>=8.1.0 in c:\\users\\maxal\\anaconda3\\lib\\site-packages (from langchain) (8.2.2)\n",
      "Requirement already satisfied: dataclasses-json<0.6.0,>=0.5.7 in c:\\users\\maxal\\anaconda3\\lib\\site-packages (from langchain) (0.5.7)\n",
      "Requirement already satisfied: gptcache>=0.1.7 in c:\\users\\maxal\\anaconda3\\lib\\site-packages (from langchain) (0.1.11)\n",
      "Requirement already satisfied: aiohttp<4.0.0,>=3.8.3 in c:\\users\\maxal\\anaconda3\\lib\\site-packages (from langchain) (3.8.4)\n",
      "Requirement already satisfied: PyYAML>=5.4.1 in c:\\users\\maxal\\anaconda3\\lib\\site-packages (from langchain) (5.4.1)\n",
      "Requirement already satisfied: async-timeout<5.0.0,>=4.0.0 in c:\\users\\maxal\\anaconda3\\lib\\site-packages (from langchain) (4.0.2)\n",
      "Requirement already satisfied: yarl<2.0,>=1.0 in c:\\users\\maxal\\anaconda3\\lib\\site-packages (from aiohttp<4.0.0,>=3.8.3->langchain) (1.7.0)\n",
      "Requirement already satisfied: frozenlist>=1.1.1 in c:\\users\\maxal\\anaconda3\\lib\\site-packages (from aiohttp<4.0.0,>=3.8.3->langchain) (1.3.3)\n",
      "Requirement already satisfied: multidict<7.0,>=4.5 in c:\\users\\maxal\\anaconda3\\lib\\site-packages (from aiohttp<4.0.0,>=3.8.3->langchain) (5.2.0)\n",
      "Requirement already satisfied: charset-normalizer<4.0,>=2.0 in c:\\users\\maxal\\anaconda3\\lib\\site-packages (from aiohttp<4.0.0,>=3.8.3->langchain) (3.0.1)\n",
      "Requirement already satisfied: attrs>=17.3.0 in c:\\users\\maxal\\anaconda3\\lib\\site-packages (from aiohttp<4.0.0,>=3.8.3->langchain) (20.3.0)\n",
      "Requirement already satisfied: aiosignal>=1.1.2 in c:\\users\\maxal\\anaconda3\\lib\\site-packages (from aiohttp<4.0.0,>=3.8.3->langchain) (1.3.1)\n",
      "Requirement already satisfied: typing-inspect>=0.4.0 in c:\\users\\maxal\\anaconda3\\lib\\site-packages (from dataclasses-json<0.6.0,>=0.5.7->langchain) (0.8.0)\n",
      "Requirement already satisfied: marshmallow-enum<2.0.0,>=1.5.1 in c:\\users\\maxal\\anaconda3\\lib\\site-packages (from dataclasses-json<0.6.0,>=0.5.7->langchain) (1.5.1)\n",
      "Requirement already satisfied: marshmallow<4.0.0,>=3.3.0 in c:\\users\\maxal\\anaconda3\\lib\\site-packages (from dataclasses-json<0.6.0,>=0.5.7->langchain) (3.19.0)\n",
      "Requirement already satisfied: openai in c:\\users\\maxal\\anaconda3\\lib\\site-packages (from gptcache>=0.1.7->langchain) (0.27.4)\n",
      "Requirement already satisfied: cachetools in c:\\users\\maxal\\anaconda3\\lib\\site-packages (from gptcache>=0.1.7->langchain) (4.2.4)\n",
      "Requirement already satisfied: packaging>=17.0 in c:\\users\\maxal\\anaconda3\\lib\\site-packages (from marshmallow<4.0.0,>=3.3.0->dataclasses-json<0.6.0,>=0.5.7->langchain) (20.9)\n",
      "Requirement already satisfied: pyparsing>=2.0.2 in c:\\users\\maxal\\anaconda3\\lib\\site-packages (from packaging>=17.0->marshmallow<4.0.0,>=3.3.0->dataclasses-json<0.6.0,>=0.5.7->langchain) (2.4.7)\n",
      "Requirement already satisfied: typing-extensions>=3.7.4.3 in c:\\users\\maxal\\anaconda3\\lib\\site-packages (from pydantic<2,>=1->langchain) (3.7.4.3)\n",
      "Requirement already satisfied: urllib3<1.27,>=1.21.1 in c:\\users\\maxal\\anaconda3\\lib\\site-packages (from requests<3,>=2->langchain) (1.26.4)\n",
      "Requirement already satisfied: certifi>=2017.4.17 in c:\\users\\maxal\\anaconda3\\lib\\site-packages (from requests<3,>=2->langchain) (2021.10.8)\n",
      "Requirement already satisfied: idna<4,>=2.5 in c:\\users\\maxal\\anaconda3\\lib\\site-packages (from requests<3,>=2->langchain) (2.10)\n",
      "Requirement already satisfied: greenlet!=0.4.17 in c:\\users\\maxal\\anaconda3\\lib\\site-packages (from SQLAlchemy<2,>=1->langchain) (1.0.0)\n",
      "Requirement already satisfied: mypy-extensions>=0.3.0 in c:\\users\\maxal\\anaconda3\\lib\\site-packages (from typing-inspect>=0.4.0->dataclasses-json<0.6.0,>=0.5.7->langchain) (0.4.3)\n",
      "Requirement already satisfied: tqdm in c:\\users\\maxal\\anaconda3\\lib\\site-packages (from openai->gptcache>=0.1.7->langchain) (4.59.0)\n",
      "Note: you may need to restart the kernel to use updated packages.\n"
     ]
    }
   ],
   "source": [
    "pip install langchain"
   ]
  },
  {
   "cell_type": "code",
   "execution_count": 3,
   "id": "3018bb9d",
   "metadata": {
    "scrolled": true
   },
   "outputs": [
    {
     "name": "stdout",
     "output_type": "stream",
     "text": [
      "Requirement already satisfied: openai in c:\\users\\maxal\\anaconda3\\lib\\site-packages (0.27.4)\n",
      "Requirement already satisfied: aiohttp in c:\\users\\maxal\\anaconda3\\lib\\site-packages (from openai) (3.8.4)\n",
      "Requirement already satisfied: requests>=2.20 in c:\\users\\maxal\\anaconda3\\lib\\site-packages (from openai) (2.28.2)\n",
      "Requirement already satisfied: tqdm in c:\\users\\maxal\\anaconda3\\lib\\site-packages (from openai) (4.59.0)\n",
      "Requirement already satisfied: charset-normalizer<4,>=2 in c:\\users\\maxal\\anaconda3\\lib\\site-packages (from requests>=2.20->openai) (3.0.1)\n",
      "Requirement already satisfied: urllib3<1.27,>=1.21.1 in c:\\users\\maxal\\anaconda3\\lib\\site-packages (from requests>=2.20->openai) (1.26.4)\n",
      "Requirement already satisfied: idna<4,>=2.5 in c:\\users\\maxal\\anaconda3\\lib\\site-packages (from requests>=2.20->openai) (2.10)\n",
      "Requirement already satisfied: certifi>=2017.4.17 in c:\\users\\maxal\\anaconda3\\lib\\site-packages (from requests>=2.20->openai) (2021.10.8)\n",
      "Requirement already satisfied: async-timeout<5.0,>=4.0.0a3 in c:\\users\\maxal\\anaconda3\\lib\\site-packages (from aiohttp->openai) (4.0.2)\n",
      "Requirement already satisfied: multidict<7.0,>=4.5 in c:\\users\\maxal\\anaconda3\\lib\\site-packages (from aiohttp->openai) (5.2.0)\n",
      "Requirement already satisfied: frozenlist>=1.1.1 in c:\\users\\maxal\\anaconda3\\lib\\site-packages (from aiohttp->openai) (1.3.3)\n",
      "Requirement already satisfied: aiosignal>=1.1.2 in c:\\users\\maxal\\anaconda3\\lib\\site-packages (from aiohttp->openai) (1.3.1)\n",
      "Requirement already satisfied: yarl<2.0,>=1.0 in c:\\users\\maxal\\anaconda3\\lib\\site-packages (from aiohttp->openai) (1.7.0)\n",
      "Requirement already satisfied: attrs>=17.3.0 in c:\\users\\maxal\\anaconda3\\lib\\site-packages (from aiohttp->openai) (20.3.0)\n",
      "Note: you may need to restart the kernel to use updated packages.\n"
     ]
    }
   ],
   "source": [
    "pip install openai"
   ]
  },
  {
   "cell_type": "code",
   "execution_count": 4,
   "id": "aaf698ae",
   "metadata": {},
   "outputs": [],
   "source": [
    "import os\n",
    "os.environ[\"OPENAI_API_KEY\"] =  \"your-api-key-here\""
   ]
  },
  {
   "cell_type": "code",
   "execution_count": 5,
   "id": "4e5c72f6",
   "metadata": {},
   "outputs": [],
   "source": [
    "from langchain.llms import OpenAI\n",
    "llm = OpenAI(model_name=\"text-davinci-003\")"
   ]
  },
  {
   "cell_type": "code",
   "execution_count": 6,
   "id": "3f73fea0",
   "metadata": {
    "scrolled": false
   },
   "outputs": [
    {
     "name": "stdout",
     "output_type": "stream",
     "text": [
      "\n",
      "\n",
      "Year | Search Volume\n",
      "----|----------------\n",
      "2010 | 0\n",
      "2011 | 0\n",
      "2012 | 0\n",
      "2013 | 0\n",
      "2014 | 5\n",
      "2015 | 8\n",
      "2016 | 8\n",
      "2017 | 10\n",
      "2018 | 12\n",
      "2019 | 14\n"
     ]
    }
   ],
   "source": [
    "question = \"What is statistic of requested or searched in Google Trends regarding the Aperol in the past 10 years. Query statistics by year.\"\n",
    "print(llm(question))"
   ]
  },
  {
   "cell_type": "code",
   "execution_count": 7,
   "id": "ea7ede67",
   "metadata": {},
   "outputs": [
    {
     "name": "stdout",
     "output_type": "stream",
     "text": [
      "\n",
      "\n",
      "1. Free Cobol Tutorials from W3Schools\n",
      "2. The Cobol Learning Series from IBM\n",
      "3. Cobol Programming Tutorials from Tutorials Point\n",
      "4. Cobol Tutorial from Tutorialspoint\n"
     ]
    }
   ],
   "source": [
    "question = \"What are the top 4 resources to learn Cobol in 2023?\"\n",
    "print(llm(question))"
   ]
  },
  {
   "cell_type": "code",
   "execution_count": 8,
   "id": "039e4d24",
   "metadata": {},
   "outputs": [
    {
     "name": "stdout",
     "output_type": "stream",
     "text": [
      "\n",
      "\n",
      "1. COBOL Programming: An Introduction to Structured Problem Solving by Jean L. Paul and Ira Pohl\n",
      "2. COBOL Programming: A Comprehensive Guide by Robert J. Traister\n",
      "3. COBOL Programming: Mastering the Mainframe and Micro Focus Visual COBOL by Paul S. Wang\n",
      "4. COBOL for the 21st Century by Alfred Worden\n",
      "5. COBOL Programming: A Modern Approach by Steven Roman\n"
     ]
    }
   ],
   "source": [
    "question = \"What are the top 5 best books to learn Cobol?\"\n",
    "print(llm(question))"
   ]
  },
  {
   "cell_type": "code",
   "execution_count": 9,
   "id": "46b7b9d6",
   "metadata": {},
   "outputs": [],
   "source": [
    "from langchain import PromptTemplate\n",
    "template = \"What are the top {k} resources to learn {this} in 2023?\"\n",
    "prompt = PromptTemplate(template=template,input_variables=['k','this'])"
   ]
  },
  {
   "cell_type": "code",
   "execution_count": 10,
   "id": "15c8c152",
   "metadata": {},
   "outputs": [],
   "source": [
    "llm = OpenAI(model_name=\"text-davinci-003\")\n",
    "prompt = PromptTemplate(template=template,input_variables=['k','this'])"
   ]
  },
  {
   "cell_type": "code",
   "execution_count": 11,
   "id": "2550fb27",
   "metadata": {},
   "outputs": [],
   "source": [
    "from langchain import LLMChain\n",
    "chain = LLMChain(llm=llm,prompt=prompt)"
   ]
  },
  {
   "cell_type": "code",
   "execution_count": 12,
   "id": "a16be2fa",
   "metadata": {
    "scrolled": true
   },
   "outputs": [
    {
     "name": "stdout",
     "output_type": "stream",
     "text": [
      "\n",
      "\n",
      "1. IBM Cobol Tutorials\n",
      "2. LearnCOBOL.org\n",
      "3. LearnCobol.com\n",
      "4. Coursera's Cobol Course\n",
      "5. Udemy's Cobol Course\n",
      "6. Lynda.com's Cobol Course\n",
      "7. Tutorialspoint's Cobol Tutorial\n",
      "8. Stack Overflow Questions and Answers\n",
      "9. W3Schools.com Cobol Tutorial\n",
      "10. CodeMentor's Cobol Tutorials\n"
     ]
    }
   ],
   "source": [
    "input = {'k':10,'this':'Cobol'}\n",
    "print(chain.run(input))"
   ]
  },
  {
   "cell_type": "code",
   "execution_count": 13,
   "id": "a42ecf96",
   "metadata": {},
   "outputs": [
    {
     "name": "stdout",
     "output_type": "stream",
     "text": [
      "\n",
      "\n",
      "Once upon a time, there were four kids – Alice, Max, Calvin and Maggie. They were all friends and they shared a love of science.\n",
      "\n",
      "One day, they decided to explore the possibility of integrating silicon-based elements into the double helix chain of plant DNA. After a lot of research, they came up with a plan to create new strands of DNA with the help of a lab and some trial and error.\n",
      "\n",
      "The group of kids set up their lab in Max’s basement, and began their project. After days of hard work and research, they finally managed to synthesize the new DNA strands.\n",
      "\n",
      "The experiment was a success!\n",
      "\n",
      "But the kids had no idea of what they had unleashed.\n",
      "\n",
      "Suddenly, a strange force appeared and transported them to a parallel world. It was a world of parallel beings and creatures, who hailed from a parallel dimension.\n",
      "\n",
      "The creatures informed the kids that they had opened a portal to their world by synthesizing the new DNA strands. They were now able to interact with each other and the creatures.\n",
      "\n",
      "The kids were so excited to be in this strange new place, and they wanted to explore more. They decided to use the DNA strands to create a bridge between\n"
     ]
    }
   ],
   "source": [
    "question = \"Write a small story on 5 pages about a group of kids (Alice (15), Max(15), Calvin(14), and Maggie(13)) who studied the possibility of integrating silicon-based elements into the double helix chain of plant DNA. Then they did experiments in the lab to synthesize new DNA strands and suddenly the result was successful. The story is 10 pages of typewritten text, involving outside help and parallel worlds and beings from a parallel dimension.\"\n",
    "\n",
    "print(llm(question))"
   ]
  },
  {
   "cell_type": "code",
   "execution_count": 14,
   "id": "f08bc2e2",
   "metadata": {},
   "outputs": [
    {
     "data": {
      "text/html": [
       "<div>\n",
       "<style scoped>\n",
       "    .dataframe tbody tr th:only-of-type {\n",
       "        vertical-align: middle;\n",
       "    }\n",
       "\n",
       "    .dataframe tbody tr th {\n",
       "        vertical-align: top;\n",
       "    }\n",
       "\n",
       "    .dataframe thead th {\n",
       "        text-align: right;\n",
       "    }\n",
       "</style>\n",
       "<table border=\"1\" class=\"dataframe\">\n",
       "  <thead>\n",
       "    <tr style=\"text-align: right;\">\n",
       "      <th></th>\n",
       "      <th>Unnamed: 0</th>\n",
       "      <th>Gender</th>\n",
       "      <th>Age</th>\n",
       "      <th>Annual Income (k$)</th>\n",
       "      <th>Spending Score (1-100)</th>\n",
       "      <th>Income Cluster</th>\n",
       "      <th>Spending and Income Cluster</th>\n",
       "    </tr>\n",
       "  </thead>\n",
       "  <tbody>\n",
       "    <tr>\n",
       "      <th>0</th>\n",
       "      <td>0</td>\n",
       "      <td>Male</td>\n",
       "      <td>19</td>\n",
       "      <td>15</td>\n",
       "      <td>39</td>\n",
       "      <td>2</td>\n",
       "      <td>1</td>\n",
       "    </tr>\n",
       "    <tr>\n",
       "      <th>1</th>\n",
       "      <td>1</td>\n",
       "      <td>Male</td>\n",
       "      <td>21</td>\n",
       "      <td>15</td>\n",
       "      <td>81</td>\n",
       "      <td>2</td>\n",
       "      <td>4</td>\n",
       "    </tr>\n",
       "    <tr>\n",
       "      <th>2</th>\n",
       "      <td>2</td>\n",
       "      <td>Female</td>\n",
       "      <td>20</td>\n",
       "      <td>16</td>\n",
       "      <td>6</td>\n",
       "      <td>2</td>\n",
       "      <td>1</td>\n",
       "    </tr>\n",
       "    <tr>\n",
       "      <th>3</th>\n",
       "      <td>3</td>\n",
       "      <td>Female</td>\n",
       "      <td>23</td>\n",
       "      <td>16</td>\n",
       "      <td>77</td>\n",
       "      <td>2</td>\n",
       "      <td>4</td>\n",
       "    </tr>\n",
       "    <tr>\n",
       "      <th>4</th>\n",
       "      <td>4</td>\n",
       "      <td>Female</td>\n",
       "      <td>31</td>\n",
       "      <td>17</td>\n",
       "      <td>40</td>\n",
       "      <td>2</td>\n",
       "      <td>1</td>\n",
       "    </tr>\n",
       "  </tbody>\n",
       "</table>\n",
       "</div>"
      ],
      "text/plain": [
       "   Unnamed: 0  Gender  Age  Annual Income (k$)  Spending Score (1-100)  \\\n",
       "0           0    Male   19                  15                      39   \n",
       "1           1    Male   21                  15                      81   \n",
       "2           2  Female   20                  16                       6   \n",
       "3           3  Female   23                  16                      77   \n",
       "4           4  Female   31                  17                      40   \n",
       "\n",
       "   Income Cluster  Spending and Income Cluster  \n",
       "0               2                            1  \n",
       "1               2                            4  \n",
       "2               2                            1  \n",
       "3               2                            4  \n",
       "4               2                            1  "
      ]
     },
     "execution_count": 14,
     "metadata": {},
     "output_type": "execute_result"
    }
   ],
   "source": [
    "# import\n",
    "import pandas as pd \n",
    "\n",
    "df = pd.read_csv('Clustering.csv')\n",
    "df.head()"
   ]
  },
  {
   "cell_type": "markdown",
   "id": "b1895ea0",
   "metadata": {},
   "source": [
    "# Reading (Turn any file into an audiobook)"
   ]
  },
  {
   "cell_type": "code",
   "execution_count": 15,
   "id": "a3b920f7",
   "metadata": {
    "scrolled": true
   },
   "outputs": [
    {
     "name": "stdout",
     "output_type": "stream",
     "text": [
      "Requirement already satisfied: gTTS in c:\\python311\\lib\\site-packages (2.3.1)\n",
      "Requirement already satisfied: requests<3,>=2.27 in c:\\python311\\lib\\site-packages (from gTTS) (2.28.2)\n",
      "Requirement already satisfied: click<8.2,>=7.1 in c:\\python311\\lib\\site-packages (from gTTS) (8.1.3)\n",
      "Requirement already satisfied: colorama in c:\\python311\\lib\\site-packages (from click<8.2,>=7.1->gTTS) (0.4.6)\n",
      "Requirement already satisfied: charset-normalizer<4,>=2 in c:\\python311\\lib\\site-packages (from requests<3,>=2.27->gTTS) (3.0.1)\n",
      "Requirement already satisfied: idna<4,>=2.5 in c:\\python311\\lib\\site-packages (from requests<3,>=2.27->gTTS) (3.4)\n",
      "Requirement already satisfied: urllib3<1.27,>=1.21.1 in c:\\python311\\lib\\site-packages (from requests<3,>=2.27->gTTS) (1.26.15)\n",
      "Requirement already satisfied: certifi>=2017.4.17 in c:\\python311\\lib\\site-packages (from requests<3,>=2.27->gTTS) (2022.12.7)\n"
     ]
    },
    {
     "name": "stderr",
     "output_type": "stream",
     "text": [
      "\n",
      "[notice] A new release of pip available: 22.3 -> 23.1\n",
      "[notice] To update, run: python.exe -m pip install --upgrade pip\n"
     ]
    }
   ],
   "source": [
    "!pip install gTTS"
   ]
  },
  {
   "cell_type": "code",
   "execution_count": 16,
   "id": "34f07e55",
   "metadata": {},
   "outputs": [],
   "source": [
    "from gtts import gTTS\n",
    "import os"
   ]
  },
  {
   "cell_type": "code",
   "execution_count": 17,
   "id": "d58e06da",
   "metadata": {},
   "outputs": [],
   "source": [
    "with open('max.txt', 'r') as file:\n",
    "    text = file.read().replace('\\n', '')"
   ]
  },
  {
   "cell_type": "code",
   "execution_count": 18,
   "id": "1250b49f",
   "metadata": {},
   "outputs": [],
   "source": [
    "tts = gTTS(text=text, lang='de')\n",
    "tts.save(\"max_book.mp3\")"
   ]
  },
  {
   "cell_type": "code",
   "execution_count": 19,
   "id": "1fa67cf1",
   "metadata": {},
   "outputs": [
    {
     "data": {
      "text/plain": [
       "0"
      ]
     },
     "execution_count": 19,
     "metadata": {},
     "output_type": "execute_result"
    }
   ],
   "source": [
    "os.system(\"start max_book.mp3\")"
   ]
  },
  {
   "cell_type": "code",
   "execution_count": null,
   "id": "cb63abcd",
   "metadata": {},
   "outputs": [],
   "source": []
  }
 ],
 "metadata": {
  "kernelspec": {
   "display_name": "Python 3",
   "language": "python",
   "name": "python3"
  },
  "language_info": {
   "codemirror_mode": {
    "name": "ipython",
    "version": 3
   },
   "file_extension": ".py",
   "mimetype": "text/x-python",
   "name": "python",
   "nbconvert_exporter": "python",
   "pygments_lexer": "ipython3",
   "version": "3.8.8"
  },
  "toc": {
   "base_numbering": 1,
   "nav_menu": {},
   "number_sections": true,
   "sideBar": true,
   "skip_h1_title": false,
   "title_cell": "Table of Contents",
   "title_sidebar": "Contents",
   "toc_cell": false,
   "toc_position": {},
   "toc_section_display": true,
   "toc_window_display": false
  },
  "varInspector": {
   "cols": {
    "lenName": 16,
    "lenType": 16,
    "lenVar": 40
   },
   "kernels_config": {
    "python": {
     "delete_cmd_postfix": "",
     "delete_cmd_prefix": "del ",
     "library": "var_list.py",
     "varRefreshCmd": "print(var_dic_list())"
    },
    "r": {
     "delete_cmd_postfix": ") ",
     "delete_cmd_prefix": "rm(",
     "library": "var_list.r",
     "varRefreshCmd": "cat(var_dic_list()) "
    }
   },
   "types_to_exclude": [
    "module",
    "function",
    "builtin_function_or_method",
    "instance",
    "_Feature"
   ],
   "window_display": false
  }
 },
 "nbformat": 4,
 "nbformat_minor": 5
}
